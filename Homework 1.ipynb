{
 "cells": [
  {
   "cell_type": "code",
   "execution_count": 44,
   "id": "f0ca10ab",
   "metadata": {},
   "outputs": [
    {
     "name": "stdout",
     "output_type": "stream",
     "text": [
      "87\n",
      "3\n",
      "215\n"
     ]
    }
   ],
   "source": [
    "#Problem 1a\n",
    "list_a = [3,4,6,10,39,87,12,54]\n",
    "print(max(list_a))\n",
    "print(min(list_a))\n",
    "print(sum(list_a))"
   ]
  },
  {
   "cell_type": "code",
   "execution_count": 45,
   "id": "898b6059",
   "metadata": {},
   "outputs": [
    {
     "data": {
      "text/plain": [
       "[3, 4, 6, 10, 12, 39, 54, 87]"
      ]
     },
     "execution_count": 45,
     "metadata": {},
     "output_type": "execute_result"
    }
   ],
   "source": [
    "#Problem 1b\n",
    "list_a.sort()\n",
    "list_a"
   ]
  },
  {
   "cell_type": "code",
   "execution_count": 46,
   "id": "0b7af61e",
   "metadata": {
    "scrolled": true
   },
   "outputs": [
    {
     "name": "stdout",
     "output_type": "stream",
     "text": [
      "3\n",
      "4\n",
      "6\n",
      "10\n",
      "12\n",
      "39\n",
      "54\n",
      "87\n"
     ]
    }
   ],
   "source": [
    "#Problem 1c\n",
    "i = 0\n",
    "for i in range(len(list_a)):\n",
    "    print(list_a[i]) \n",
    "    i = i + 1"
   ]
  },
  {
   "cell_type": "code",
   "execution_count": 90,
   "id": "956fb5fd",
   "metadata": {},
   "outputs": [
    {
     "name": "stdout",
     "output_type": "stream",
     "text": [
      "4 is not prime\n"
     ]
    }
   ],
   "source": [
    "#Problem 2a\n",
    "def primes(x):\n",
    "    if x == 1 or x ==2:\n",
    "        return True\n",
    "    i = 2\n",
    "    for i in range(2,(x - 1)):\n",
    "        if x % i == 0:\n",
    "            return False\n",
    "        i = i + 1\n",
    "x = 4\n",
    "if primes(x) != False: \n",
    "    print(str(x) + \" is prime\")\n",
    "else:\n",
    "    print(str(x) + \" is not prime\")"
   ]
  },
  {
   "cell_type": "code",
   "execution_count": 97,
   "id": "14df9bcb",
   "metadata": {},
   "outputs": [
    {
     "name": "stdout",
     "output_type": "stream",
     "text": [
      "[1, 2, 3, 5, 7, 11, 13, 17, 19, 23, 29, 31, 37, 41, 43, 47, 53, 59, 61, 67, 71, 73, 79, 83, 89, 97]\n"
     ]
    }
   ],
   "source": [
    "#Problem 2b\n",
    "i = 2\n",
    "x = 1\n",
    "primelist = []\n",
    "for x in range(1,100):\n",
    "    primes(x)\n",
    "    if primes(x) != False:\n",
    "        primelist.append(x)\n",
    "    x = x + 1    \n",
    "print(primelist)    "
   ]
  },
  {
   "cell_type": "code",
   "execution_count": 111,
   "id": "093b56d1",
   "metadata": {},
   "outputs": [],
   "source": [
    "#Problem 2c\n",
    "def nprimes(n):\n",
    "    i = 2\n",
    "    x = 1\n",
    "    nprimelist = []\n",
    "    for x in range(1,n):\n",
    "        primes(x)\n",
    "        if primes(x) != False:\n",
    "            nprimelist.append(x)\n",
    "        x = x + 1\n",
    "    return nprimelist"
   ]
  },
  {
   "cell_type": "code",
   "execution_count": 110,
   "id": "fe501325",
   "metadata": {},
   "outputs": [
    {
     "name": "stdout",
     "output_type": "stream",
     "text": [
      "[1, 2, 3, 5, 7, 11, 13, 17, 19, 23, 29, 31, 37, 41, 43, 47, 53, 59, 61, 67, 71, 73, 79, 83, 89, 97, 101, 103, 107, 109, 113, 127, 131, 137, 139, 149, 151, 157, 163, 167, 173, 179, 181, 191, 193, 197, 199, 211, 223, 227, 229, 233, 239, 241, 251, 257, 263, 269, 271, 277, 281, 283, 293, 307, 311, 313, 317, 331, 337, 347, 349, 353, 359, 367, 373, 379, 383, 389, 397, 401, 409, 419, 421, 431, 433, 439, 443, 449, 457, 461, 463, 467, 479, 487, 491, 499, 503, 509, 521, 523, 541, 547, 557, 563, 569, 571, 577, 587, 593, 599, 601, 607, 613, 617, 619, 631, 641, 643, 647, 653, 659, 661, 673, 677, 683, 691, 701, 709, 719, 727, 733, 739, 743, 751, 757, 761, 769, 773, 787, 797, 809, 811, 821, 823, 827, 829, 839, 853, 857, 859, 863, 877, 881, 883, 887, 907, 911, 919, 929, 937, 941, 947, 953, 967, 971, 977, 983, 991, 997]\n"
     ]
    }
   ],
   "source": [
    "#Problem 2d\n",
    "n = 1000\n",
    "print(nprimes(n))"
   ]
  },
  {
   "cell_type": "code",
   "execution_count": 36,
   "id": "b43c87f6",
   "metadata": {},
   "outputs": [],
   "source": [
    "#Problem 3a\n",
    "import numpy as np\n",
    "def array(n, data):\n",
    "    if data == \"random\":\n",
    "        x = np.random.randint(1, 100, size = (n, 3, 3))\n",
    "    else:\n",
    "        x = np.zeros((n, 3, 3))\n",
    "        x.fill(data)\n",
    "    return x"
   ]
  },
  {
   "cell_type": "code",
   "execution_count": 37,
   "id": "73d9e985",
   "metadata": {},
   "outputs": [
    {
     "name": "stdout",
     "output_type": "stream",
     "text": [
      "[[[0. 0. 0.]\n",
      "  [0. 0. 0.]\n",
      "  [0. 0. 0.]]\n",
      "\n",
      " [[0. 0. 0.]\n",
      "  [0. 0. 0.]\n",
      "  [0. 0. 0.]]\n",
      "\n",
      " [[0. 0. 0.]\n",
      "  [0. 0. 0.]\n",
      "  [0. 0. 0.]]\n",
      "\n",
      " [[0. 0. 0.]\n",
      "  [0. 0. 0.]\n",
      "  [0. 0. 0.]]\n",
      "\n",
      " [[0. 0. 0.]\n",
      "  [0. 0. 0.]\n",
      "  [0. 0. 0.]]\n",
      "\n",
      " [[0. 0. 0.]\n",
      "  [0. 0. 0.]\n",
      "  [0. 0. 0.]]\n",
      "\n",
      " [[0. 0. 0.]\n",
      "  [0. 0. 0.]\n",
      "  [0. 0. 0.]]\n",
      "\n",
      " [[0. 0. 0.]\n",
      "  [0. 0. 0.]\n",
      "  [0. 0. 0.]]\n",
      "\n",
      " [[0. 0. 0.]\n",
      "  [0. 0. 0.]\n",
      "  [0. 0. 0.]]\n",
      "\n",
      " [[0. 0. 0.]\n",
      "  [0. 0. 0.]\n",
      "  [0. 0. 0.]]]\n"
     ]
    }
   ],
   "source": [
    "#Problem 3b\n",
    "n = 10\n",
    "data = 0\n",
    "print(array(n, data))"
   ]
  },
  {
   "cell_type": "code",
   "execution_count": 38,
   "id": "b9ed3333",
   "metadata": {},
   "outputs": [
    {
     "data": {
      "text/plain": [
       "array([[[53,  9, 49],\n",
       "        [13, 72, 39],\n",
       "        [98, 63, 37]],\n",
       "\n",
       "       [[ 3, 32, 53],\n",
       "        [ 6, 16, 91],\n",
       "        [40, 75, 97]],\n",
       "\n",
       "       [[43, 41, 25],\n",
       "        [ 8, 17, 65],\n",
       "        [ 2,  1, 76]],\n",
       "\n",
       "       [[20, 94, 48],\n",
       "        [15,  5, 33],\n",
       "        [20, 89,  1]],\n",
       "\n",
       "       [[92, 37, 49],\n",
       "        [92, 63, 20],\n",
       "        [40, 97, 86]]])"
      ]
     },
     "execution_count": 38,
     "metadata": {},
     "output_type": "execute_result"
    }
   ],
   "source": [
    "#Problem 3c\n",
    "n = 5\n",
    "data = \"random\"\n",
    "array(n, data)"
   ]
  },
  {
   "cell_type": "code",
   "execution_count": 39,
   "id": "7c8511f2",
   "metadata": {},
   "outputs": [
    {
     "data": {
      "text/plain": [
       "array([[-1.7],\n",
       "       [ 1.9],\n",
       "       [-1.5]])"
      ]
     },
     "execution_count": 39,
     "metadata": {},
     "output_type": "execute_result"
    }
   ],
   "source": [
    "#Problem 4\n",
    "A = np.array([[3,4,-5],[0,5,1],[1,3,6]])\n",
    "B = np.array([[10],[8],[-5]])\n",
    "Ainv = np.linalg.inv(A)\n",
    "np.dot(Ainv, B)"
   ]
  },
  {
   "cell_type": "code",
   "execution_count": 42,
   "id": "2a226860",
   "metadata": {},
   "outputs": [
    {
     "data": {
      "text/plain": [
       "Text(0, 0.5, 'y values')"
      ]
     },
     "execution_count": 42,
     "metadata": {},
     "output_type": "execute_result"
    },
    {
     "data": {
      "image/png": "[encoded data removed]",
      "text/plain": [
       "<Figure size 432x288 with 1 Axes>"
      ]
     },
     "metadata": {
      "needs_background": "light"
     },
     "output_type": "display_data"
    }
   ],
   "source": [
    "#Problem 5a\n",
    "import matplotlib.pyplot as plt\n",
    "def yfunc(x):\n",
    "    y = .1*x**3-x**2+5\n",
    "    return y\n",
    "x = -5\n",
    "xvalues = []\n",
    "yvalues = []\n",
    "values = []\n",
    "for x in range (-5, 6):\n",
    "    y = yfunc(x)\n",
    "    xvalues.append(x)\n",
    "    yvalues.append(y)\n",
    "    values.append([x,y])\n",
    "    x = x + 1\n",
    "plt.plot(xvalues,yvalues)\n",
    "ymax = max(yvalues)\n",
    "def findxindex(y):\n",
    "    ind = yvalues.index(y)\n",
    "    return ind\n",
    "xindexmax = findxindex(ymax)\n",
    "xmax = xvalues[xindexmax]\n",
    "plt.scatter(xmax, ymax)\n",
    "ymin = min(yvalues)\n",
    "xindexmin = findxindex(ymin)\n",
    "xmin = xvalues[xindexmin]\n",
    "plt.scatter(xmin, ymin)\n",
    "plt.text(xmax - 1, ymax - 3, \"maximum\"); plt.text(xmin + .5, ymin, \"minimum\"); plt.xlabel(\"x values\"); plt.ylabel(\"y values\")"
   ]
  },
  {
   "cell_type": "code",
   "execution_count": null,
   "id": "f2580527",
   "metadata": {},
   "outputs": [],
   "source": [
    "\n",
    "            "
   ]
  },
  {
   "cell_type": "code",
   "execution_count": null,
   "id": "59daf8c5",
   "metadata": {},
   "outputs": [],
   "source": []
  }
 ],
 "metadata": {
  "kernelspec": {
   "display_name": "Python 3",
   "language": "python",
   "name": "python3"
  },
  "language_info": {
   "codemirror_mode": {
    "name": "ipython",
    "version": 3
   },
   "file_extension": ".py",
   "mimetype": "text/x-python",
   "name": "python",
   "nbconvert_exporter": "python",
   "pygments_lexer": "ipython3",
   "version": "3.8.8"
  }
 },
 "nbformat": 4,
 "nbformat_minor": 5
}
